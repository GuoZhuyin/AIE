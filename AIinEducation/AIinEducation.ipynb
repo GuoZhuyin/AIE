{
 "cells": [
  {
   "attachments": {},
   "cell_type": "markdown",
   "metadata": {},
   "source": [
    "<div align=\"center\"><a href=\"https://colab.research.google.com/github/GuoZhuyin/AIE/blob/master/EducationBigData/AIinEducation.ipynb\" target=\"_parent\"><img src=\"https://colab.research.google.com/assets/colab-badge.svg\" alt=\"Open In Colab\"></a></div>"
   ]
  },
  {
   "attachments": {},
   "cell_type": "markdown",
   "metadata": {},
   "source": [
    "### 程式語言\n",
    "Python：https://www.w3schools.com/python\n",
    "\n",
    "R：https://www.w3schools.com/r\n",
    "### 深度學習\n",
    "https://huggingface.co/"
   ]
  },
  {
   "attachments": {},
   "cell_type": "markdown",
   "metadata": {},
   "source": [
    "### AI提示工程師\n",
    "https://github.com/f/awesome-chatgpt-prompts"
   ]
  },
  {
   "attachments": {},
   "cell_type": "markdown",
   "metadata": {},
   "source": [
    "### GitHub Education\n",
    "https://education.github.com/\n",
    "### GitHub Copilot\n",
    "https://copilot.github.com/"
   ]
  }
 ],
 "metadata": {
  "language_info": {
   "name": "python"
  },
  "orig_nbformat": 4
 },
 "nbformat": 4,
 "nbformat_minor": 2
}
