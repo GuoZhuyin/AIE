{
 "cells": [
  {
   "attachments": {},
   "cell_type": "markdown",
   "metadata": {},
   "source": [
    "<div align=\"center\"><a href=\"https://colab.research.google.com/github/GuoZhuyin/AIE/blob/master/EducationBigData/EducationBigData.ipynb\" target=\"_parent\"><img src=\"https://colab.research.google.com/assets/colab-badge.svg\" alt=\"Open In Colab\"></a></div>"
   ]
  },
  {
   "attachments": {},
   "cell_type": "markdown",
   "metadata": {},
   "source": [
    "### 圖書館資源對學習成效之影響預測\n",
    "https://aidea-web.tw/topic/bcbbb758-3034-4ad4-8648-af9c45ea1137\n",
    "\n",
    "本議題以亞洲大學 100-107 學年度學生的修課資訊與排名資訊、圖書館借閱紀錄、圖書館進出館紀錄作為資料集，預測學生 107 學年度第二學期 (相較於第一學期) 的個人排名進退步幅度，期望參賽者透過 AI 技術找出圖書館資源的利用程度與學習成效間的關係。"
   ]
  },
  {
   "cell_type": "code",
   "execution_count": null,
   "metadata": {},
   "outputs": [],
   "source": []
  },
  {
   "attachments": {},
   "cell_type": "markdown",
   "metadata": {},
   "source": [
    "### 台灣教育長期追蹤資料庫（TEPS）\n",
    "https://tepsb.nccu.edu.tw/\n",
    "\n",
    "https://srda.sinica.edu.tw/datasearch_detail.php?id=1052\n",
    "\n",
    "TEPS自2001年開始調查約20,000名高中職五專二年級學生（約1984-1985年生），以及約20,000名國中一年級學生（約1988-1989年生）。TEPS於2003年再度調查這些分別升到高中職五專三年級及國中三年級的學生。2005年及2007年時，TEPS除了從前述國中樣本中抽選約4,000名，並持續瞭解他們上高中職五專的情況外，也同時調查了他們約16,000名的同學。TEPS-B於2009年啟動，其計畫目標即為繼續追蹤這些年輕人就學就業的現況。TEPS-B期望透過資料庫的累積，描繪出這一世代年輕人的生命歷程。在未來，這批珍貴的資料，將可作為教育及人力資源等政策規劃的重要基礎。"
   ]
  }
 ],
 "metadata": {
  "language_info": {
   "name": "python"
  },
  "orig_nbformat": 4
 },
 "nbformat": 4,
 "nbformat_minor": 2
}
