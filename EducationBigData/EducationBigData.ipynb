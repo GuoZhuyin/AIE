{
 "cells": [
  {
   "attachments": {},
   "cell_type": "markdown",
   "metadata": {},
   "source": [
    "<a href=\"https://colab.research.google.com/github/GuoZhuyin/AIE/blob/master/EducationBigData/EducationBigData.ipynb\" target=\"_parent\"><img src=\"https://colab.research.google.com/assets/colab-badge.svg\" alt=\"Open In Colab\"></a>"
   ]
  },
  {
   "attachments": {},
   "cell_type": "markdown",
   "metadata": {},
   "source": [
    "### 圖書館資源對學習成效之影響預測\n",
    "https://aidea-web.tw/topic/bcbbb758-3034-4ad4-8648-af9c45ea1137\n",
    "\n",
    "本議題以亞洲大學 100-107 學年度學生的修課資訊與排名資訊、圖書館借閱紀錄、圖書館進出館紀錄作為資料集，預測學生 107 學年度第二學期 (相較於第一學期) 的個人排名進退步幅度，期望參賽者透過 AI 技術找出圖書館資源的利用程度與學習成效間的關係。"
   ]
  },
  {
   "cell_type": "code",
   "execution_count": null,
   "metadata": {},
   "outputs": [],
   "source": []
  }
 ],
 "metadata": {
  "language_info": {
   "name": "python"
  },
  "orig_nbformat": 4
 },
 "nbformat": 4,
 "nbformat_minor": 2
}
